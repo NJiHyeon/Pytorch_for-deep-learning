{
  "nbformat": 4,
  "nbformat_minor": 0,
  "metadata": {
    "colab": {
      "name": "CH4.ipynb",
      "provenance": [],
      "authorship_tag": "ABX9TyNQW+egITACX2U5xw5iocVA",
      "include_colab_link": true
    },
    "kernelspec": {
      "name": "python3",
      "display_name": "Python 3"
    },
    "language_info": {
      "name": "python"
    },
    "accelerator": "GPU",
    "widgets": {
      "application/vnd.jupyter.widget-state+json": {
        "2b9eff49bcd649f9a19aa79e2504db78": {
          "model_module": "@jupyter-widgets/controls",
          "model_name": "HBoxModel",
          "model_module_version": "1.5.0",
          "state": {
            "_dom_classes": [],
            "_model_module": "@jupyter-widgets/controls",
            "_model_module_version": "1.5.0",
            "_model_name": "HBoxModel",
            "_view_count": null,
            "_view_module": "@jupyter-widgets/controls",
            "_view_module_version": "1.5.0",
            "_view_name": "HBoxView",
            "box_style": "",
            "children": [
              "IPY_MODEL_c66407a82a9b46e3a86edccfcdf5873b",
              "IPY_MODEL_f1c5083c331240199af223152a82dbbe",
              "IPY_MODEL_d009a9ac32524814823de2004dc32306"
            ],
            "layout": "IPY_MODEL_9cb45e9a36a74c0380b143cd134bfaee"
          }
        },
        "c66407a82a9b46e3a86edccfcdf5873b": {
          "model_module": "@jupyter-widgets/controls",
          "model_name": "HTMLModel",
          "model_module_version": "1.5.0",
          "state": {
            "_dom_classes": [],
            "_model_module": "@jupyter-widgets/controls",
            "_model_module_version": "1.5.0",
            "_model_name": "HTMLModel",
            "_view_count": null,
            "_view_module": "@jupyter-widgets/controls",
            "_view_module_version": "1.5.0",
            "_view_name": "HTMLView",
            "description": "",
            "description_tooltip": null,
            "layout": "IPY_MODEL_fe83beb72f894c079fd9548303b98ca9",
            "placeholder": "​",
            "style": "IPY_MODEL_8ee5ae4b769e4422a4ca98508e4b5c58",
            "value": ""
          }
        },
        "f1c5083c331240199af223152a82dbbe": {
          "model_module": "@jupyter-widgets/controls",
          "model_name": "FloatProgressModel",
          "model_module_version": "1.5.0",
          "state": {
            "_dom_classes": [],
            "_model_module": "@jupyter-widgets/controls",
            "_model_module_version": "1.5.0",
            "_model_name": "FloatProgressModel",
            "_view_count": null,
            "_view_module": "@jupyter-widgets/controls",
            "_view_module_version": "1.5.0",
            "_view_name": "ProgressView",
            "bar_style": "success",
            "description": "",
            "description_tooltip": null,
            "layout": "IPY_MODEL_7db394f7d44f4b65a0d8813c4a8096a7",
            "max": 170498071,
            "min": 0,
            "orientation": "horizontal",
            "style": "IPY_MODEL_4b916551119d457f9bc9b82f78764459",
            "value": 170498071
          }
        },
        "d009a9ac32524814823de2004dc32306": {
          "model_module": "@jupyter-widgets/controls",
          "model_name": "HTMLModel",
          "model_module_version": "1.5.0",
          "state": {
            "_dom_classes": [],
            "_model_module": "@jupyter-widgets/controls",
            "_model_module_version": "1.5.0",
            "_model_name": "HTMLModel",
            "_view_count": null,
            "_view_module": "@jupyter-widgets/controls",
            "_view_module_version": "1.5.0",
            "_view_name": "HTMLView",
            "description": "",
            "description_tooltip": null,
            "layout": "IPY_MODEL_3e2317bccb9142d3b510e4b585ea273e",
            "placeholder": "​",
            "style": "IPY_MODEL_4fdaf8ef5df3448b8d366b09b90e6d28",
            "value": " 170499072/? [00:13&lt;00:00, 15509961.58it/s]"
          }
        },
        "9cb45e9a36a74c0380b143cd134bfaee": {
          "model_module": "@jupyter-widgets/base",
          "model_name": "LayoutModel",
          "model_module_version": "1.2.0",
          "state": {
            "_model_module": "@jupyter-widgets/base",
            "_model_module_version": "1.2.0",
            "_model_name": "LayoutModel",
            "_view_count": null,
            "_view_module": "@jupyter-widgets/base",
            "_view_module_version": "1.2.0",
            "_view_name": "LayoutView",
            "align_content": null,
            "align_items": null,
            "align_self": null,
            "border": null,
            "bottom": null,
            "display": null,
            "flex": null,
            "flex_flow": null,
            "grid_area": null,
            "grid_auto_columns": null,
            "grid_auto_flow": null,
            "grid_auto_rows": null,
            "grid_column": null,
            "grid_gap": null,
            "grid_row": null,
            "grid_template_areas": null,
            "grid_template_columns": null,
            "grid_template_rows": null,
            "height": null,
            "justify_content": null,
            "justify_items": null,
            "left": null,
            "margin": null,
            "max_height": null,
            "max_width": null,
            "min_height": null,
            "min_width": null,
            "object_fit": null,
            "object_position": null,
            "order": null,
            "overflow": null,
            "overflow_x": null,
            "overflow_y": null,
            "padding": null,
            "right": null,
            "top": null,
            "visibility": null,
            "width": null
          }
        },
        "fe83beb72f894c079fd9548303b98ca9": {
          "model_module": "@jupyter-widgets/base",
          "model_name": "LayoutModel",
          "model_module_version": "1.2.0",
          "state": {
            "_model_module": "@jupyter-widgets/base",
            "_model_module_version": "1.2.0",
            "_model_name": "LayoutModel",
            "_view_count": null,
            "_view_module": "@jupyter-widgets/base",
            "_view_module_version": "1.2.0",
            "_view_name": "LayoutView",
            "align_content": null,
            "align_items": null,
            "align_self": null,
            "border": null,
            "bottom": null,
            "display": null,
            "flex": null,
            "flex_flow": null,
            "grid_area": null,
            "grid_auto_columns": null,
            "grid_auto_flow": null,
            "grid_auto_rows": null,
            "grid_column": null,
            "grid_gap": null,
            "grid_row": null,
            "grid_template_areas": null,
            "grid_template_columns": null,
            "grid_template_rows": null,
            "height": null,
            "justify_content": null,
            "justify_items": null,
            "left": null,
            "margin": null,
            "max_height": null,
            "max_width": null,
            "min_height": null,
            "min_width": null,
            "object_fit": null,
            "object_position": null,
            "order": null,
            "overflow": null,
            "overflow_x": null,
            "overflow_y": null,
            "padding": null,
            "right": null,
            "top": null,
            "visibility": null,
            "width": null
          }
        },
        "8ee5ae4b769e4422a4ca98508e4b5c58": {
          "model_module": "@jupyter-widgets/controls",
          "model_name": "DescriptionStyleModel",
          "model_module_version": "1.5.0",
          "state": {
            "_model_module": "@jupyter-widgets/controls",
            "_model_module_version": "1.5.0",
            "_model_name": "DescriptionStyleModel",
            "_view_count": null,
            "_view_module": "@jupyter-widgets/base",
            "_view_module_version": "1.2.0",
            "_view_name": "StyleView",
            "description_width": ""
          }
        },
        "7db394f7d44f4b65a0d8813c4a8096a7": {
          "model_module": "@jupyter-widgets/base",
          "model_name": "LayoutModel",
          "model_module_version": "1.2.0",
          "state": {
            "_model_module": "@jupyter-widgets/base",
            "_model_module_version": "1.2.0",
            "_model_name": "LayoutModel",
            "_view_count": null,
            "_view_module": "@jupyter-widgets/base",
            "_view_module_version": "1.2.0",
            "_view_name": "LayoutView",
            "align_content": null,
            "align_items": null,
            "align_self": null,
            "border": null,
            "bottom": null,
            "display": null,
            "flex": null,
            "flex_flow": null,
            "grid_area": null,
            "grid_auto_columns": null,
            "grid_auto_flow": null,
            "grid_auto_rows": null,
            "grid_column": null,
            "grid_gap": null,
            "grid_row": null,
            "grid_template_areas": null,
            "grid_template_columns": null,
            "grid_template_rows": null,
            "height": null,
            "justify_content": null,
            "justify_items": null,
            "left": null,
            "margin": null,
            "max_height": null,
            "max_width": null,
            "min_height": null,
            "min_width": null,
            "object_fit": null,
            "object_position": null,
            "order": null,
            "overflow": null,
            "overflow_x": null,
            "overflow_y": null,
            "padding": null,
            "right": null,
            "top": null,
            "visibility": null,
            "width": null
          }
        },
        "4b916551119d457f9bc9b82f78764459": {
          "model_module": "@jupyter-widgets/controls",
          "model_name": "ProgressStyleModel",
          "model_module_version": "1.5.0",
          "state": {
            "_model_module": "@jupyter-widgets/controls",
            "_model_module_version": "1.5.0",
            "_model_name": "ProgressStyleModel",
            "_view_count": null,
            "_view_module": "@jupyter-widgets/base",
            "_view_module_version": "1.2.0",
            "_view_name": "StyleView",
            "bar_color": null,
            "description_width": ""
          }
        },
        "3e2317bccb9142d3b510e4b585ea273e": {
          "model_module": "@jupyter-widgets/base",
          "model_name": "LayoutModel",
          "model_module_version": "1.2.0",
          "state": {
            "_model_module": "@jupyter-widgets/base",
            "_model_module_version": "1.2.0",
            "_model_name": "LayoutModel",
            "_view_count": null,
            "_view_module": "@jupyter-widgets/base",
            "_view_module_version": "1.2.0",
            "_view_name": "LayoutView",
            "align_content": null,
            "align_items": null,
            "align_self": null,
            "border": null,
            "bottom": null,
            "display": null,
            "flex": null,
            "flex_flow": null,
            "grid_area": null,
            "grid_auto_columns": null,
            "grid_auto_flow": null,
            "grid_auto_rows": null,
            "grid_column": null,
            "grid_gap": null,
            "grid_row": null,
            "grid_template_areas": null,
            "grid_template_columns": null,
            "grid_template_rows": null,
            "height": null,
            "justify_content": null,
            "justify_items": null,
            "left": null,
            "margin": null,
            "max_height": null,
            "max_width": null,
            "min_height": null,
            "min_width": null,
            "object_fit": null,
            "object_position": null,
            "order": null,
            "overflow": null,
            "overflow_x": null,
            "overflow_y": null,
            "padding": null,
            "right": null,
            "top": null,
            "visibility": null,
            "width": null
          }
        },
        "4fdaf8ef5df3448b8d366b09b90e6d28": {
          "model_module": "@jupyter-widgets/controls",
          "model_name": "DescriptionStyleModel",
          "model_module_version": "1.5.0",
          "state": {
            "_model_module": "@jupyter-widgets/controls",
            "_model_module_version": "1.5.0",
            "_model_name": "DescriptionStyleModel",
            "_view_count": null,
            "_view_module": "@jupyter-widgets/base",
            "_view_module_version": "1.2.0",
            "_view_name": "StyleView",
            "description_width": ""
          }
        }
      }
    }
  },
  "cells": [
    {
      "cell_type": "markdown",
      "metadata": {
        "id": "view-in-github",
        "colab_type": "text"
      },
      "source": [
        "<a href=\"https://colab.research.google.com/github/NJiHyeon/Pytorch_for-deep-learning/blob/main/CH4.ipynb\" target=\"_parent\"><img src=\"https://colab.research.google.com/assets/colab-badge.svg\" alt=\"Open In Colab\"/></a>"
      ]
    },
    {
      "cell_type": "markdown",
      "source": [
        "#기본모델 구축 + 저장"
      ],
      "metadata": {
        "id": "F_qxCa4c2pjz"
      }
    },
    {
      "cell_type": "code",
      "execution_count": 1,
      "metadata": {
        "id": "bl02alnrzrWE"
      },
      "outputs": [],
      "source": [
        "import torch\n",
        "import torchvision\n",
        "import torchvision.transforms as transforms\n",
        "from torch.utils.data import DataLoader"
      ]
    },
    {
      "cell_type": "markdown",
      "source": [
        "\n",
        "\n",
        "---\n",
        "\n"
      ],
      "metadata": {
        "id": "HjsQvS2jAF3n"
      }
    },
    {
      "cell_type": "markdown",
      "source": [
        "### Load data set"
      ],
      "metadata": {
        "id": "0F7RaIMg3YFn"
      }
    },
    {
      "cell_type": "code",
      "source": [
        "transform = transforms.Compose(\n",
        "    [transforms.ToTensor(),\n",
        "     transforms.Normalize((0.5,0.5,0.5),(0.5,0.5,0.5))])\n",
        "\n",
        "trainset = torchvision.datasets.CIFAR10(root='./data', train=True,\n",
        "                                       download=True, transform=transform)\n",
        "\n",
        "trainloader = torch.utils.data.DataLoader(trainset, batch_size=8,\n",
        "                                          shuffle=True, num_workers=2)\n",
        "\n",
        "testset = torchvision.datasets.CIFAR10(root='./data', train=False,\n",
        "                                      download=True, transform=transform)\n",
        "\n",
        "testloader = torch.utils.data.DataLoader(testset, batch_size=8,\n",
        "                                         shuffle=False, num_workers=2)\n",
        "\n",
        "classes = ('plane', 'car', 'bird', 'cat',\n",
        "           'deer', 'dog', 'frog', 'horse', 'ship', 'truck')"
      ],
      "metadata": {
        "colab": {
          "base_uri": "https://localhost:8080/",
          "height": 105,
          "referenced_widgets": [
            "2b9eff49bcd649f9a19aa79e2504db78",
            "c66407a82a9b46e3a86edccfcdf5873b",
            "f1c5083c331240199af223152a82dbbe",
            "d009a9ac32524814823de2004dc32306",
            "9cb45e9a36a74c0380b143cd134bfaee",
            "fe83beb72f894c079fd9548303b98ca9",
            "8ee5ae4b769e4422a4ca98508e4b5c58",
            "7db394f7d44f4b65a0d8813c4a8096a7",
            "4b916551119d457f9bc9b82f78764459",
            "3e2317bccb9142d3b510e4b585ea273e",
            "4fdaf8ef5df3448b8d366b09b90e6d28"
          ]
        },
        "id": "nwrE9bUm3WdY",
        "outputId": "fc8fb7c0-3c7e-446a-c640-807b87890e52"
      },
      "execution_count": 4,
      "outputs": [
        {
          "output_type": "stream",
          "name": "stdout",
          "text": [
            "Downloading https://www.cs.toronto.edu/~kriz/cifar-10-python.tar.gz to ./data/cifar-10-python.tar.gz\n"
          ]
        },
        {
          "output_type": "display_data",
          "data": {
            "text/plain": [
              "  0%|          | 0/170498071 [00:00<?, ?it/s]"
            ],
            "application/vnd.jupyter.widget-view+json": {
              "version_major": 2,
              "version_minor": 0,
              "model_id": "2b9eff49bcd649f9a19aa79e2504db78"
            }
          },
          "metadata": {}
        },
        {
          "output_type": "stream",
          "name": "stdout",
          "text": [
            "Extracting ./data/cifar-10-python.tar.gz to ./data\n",
            "Files already downloaded and verified\n"
          ]
        }
      ]
    },
    {
      "cell_type": "markdown",
      "source": [
        "\n",
        "\n",
        "---\n",
        "\n"
      ],
      "metadata": {
        "id": "3VNyJ1lmAI44"
      }
    },
    {
      "cell_type": "markdown",
      "source": [
        "### Build a model"
      ],
      "metadata": {
        "id": "2nTFLlpP4plo"
      }
    },
    {
      "cell_type": "code",
      "source": [
        "#모델을 만들 때 두가지를 import\n",
        "import torch.nn as nn\n",
        "import torch.nn.functional as F\n",
        "\n",
        "#nn.Module을 상속 받는다.\n",
        "\n",
        "class Net(nn.Module) : \n",
        "  def __init__(self) :\n",
        "    super(Net, self).__init__()\n",
        "    self.conv1 = nn.Conv2d(3,6,5)\n",
        "    self.pool = nn.MaxPool2d(2,2)\n",
        "    self.conv2 = nn.Conv2d(6,16,5)\n",
        "    self.fc1 = nn.Linear(16*5*5, 120)\n",
        "    self.fc2 = nn.Linear(120,84)\n",
        "    self.fc3 = nn.Linear(84,10)\n",
        "\n",
        "  def forward(self,x) :                    #x에 input이 들어온다.\n",
        "    x = self.pool(F.relu(self.conv1(x)))   # 들어온 input이 convolution -> relu -> pool\n",
        "    x = self.pool(F.relu(self.conv2(x)))\n",
        "    x = x.view(-1, 16*5*5)                 # 사이즈를 변형할 때 view (이미지를 일자로 피는 작업)\n",
        "    x = F.relu(self.fc1(x))                # linear연산 -> relu\n",
        "    x = F.relu(self.fc2(x))\n",
        "    x = self.fc3(x)\n",
        "    return x\n",
        "\n",
        "net = Net()\n",
        "\n"
      ],
      "metadata": {
        "id": "ndGw_k1c4fLU"
      },
      "execution_count": 5,
      "outputs": []
    },
    {
      "cell_type": "markdown",
      "source": [
        "###### - __init__부분에서 내가 사용하고자 하는 연산들을 정의한다.(위의 두 줄은 그대로 밑에 부분부터는 원하는 것을 작성)\n",
        "###### - forward 함수는 연산의 순서를 정해주는 부분\n",
        "###### - 모델이 class이기 때문에 class에 대한 인스턴스(net=Net())만든다.이제 net을 가지고 모델을 돌리게 된다."
      ],
      "metadata": {
        "id": "wCLV1_v35K3u"
      }
    },
    {
      "cell_type": "code",
      "source": [
        "print(net)\n",
        "#32 -> 28 -> 14 -> 10 -> 5"
      ],
      "metadata": {
        "colab": {
          "base_uri": "https://localhost:8080/"
        },
        "id": "ow76-koz6O0j",
        "outputId": "201d77fd-97b0-4ced-dbec-a9a8bfe03547"
      },
      "execution_count": 6,
      "outputs": [
        {
          "output_type": "stream",
          "name": "stdout",
          "text": [
            "Net(\n",
            "  (conv1): Conv2d(3, 6, kernel_size=(5, 5), stride=(1, 1))\n",
            "  (pool): MaxPool2d(kernel_size=2, stride=2, padding=0, dilation=1, ceil_mode=False)\n",
            "  (conv2): Conv2d(6, 16, kernel_size=(5, 5), stride=(1, 1))\n",
            "  (fc1): Linear(in_features=400, out_features=120, bias=True)\n",
            "  (fc2): Linear(in_features=120, out_features=84, bias=True)\n",
            "  (fc3): Linear(in_features=84, out_features=10, bias=True)\n",
            ")\n"
          ]
        }
      ]
    },
    {
      "cell_type": "markdown",
      "source": [
        "\n",
        "\n",
        "---\n",
        "\n"
      ],
      "metadata": {
        "id": "OVGap1cO6qqp"
      }
    },
    {
      "cell_type": "markdown",
      "source": [
        "### Implement the model with training set"
      ],
      "metadata": {
        "id": "eeWKI6XR6sNx"
      }
    },
    {
      "cell_type": "code",
      "source": [
        "import torch.optim as optim\n",
        "\n",
        "criterion = nn.CrossEntropyLoss()\n",
        "optimizer = optim.SGD(net.parameters(), lr=0.001, momentum=0.9)"
      ],
      "metadata": {
        "id": "evNCPDZJ6QBA"
      },
      "execution_count": 7,
      "outputs": []
    },
    {
      "cell_type": "markdown",
      "source": [
        "###### - supervised running에서는 output이 나오고 -> output을 가지고 loss를 구하고 -> loss를 바탕으로해서 gradient값을 구하고 -> 다시 그 모델에 있는 파라미터들을 업데이트 시켜주는 형태\n",
        "###### - loss function과 gradient를 구할 수 있는 optimizer를 정의\n",
        "###### - 여기서 사용한 loss(nn.CorssEntropyLoss())는 전형적인 분류 문제에 쓰이는 함수\n",
        "###### - net.parameters() : net안에 있는 파라미터들을 모아놓은 것(파라미터를 업데이터 시켜준다라고 생각하기)\n",
        "###### - scheduling을 통해 lr을 가변적으로 운영 가능하다.\n",
        "###### 정리하자면, optimizer와 loss function을 정의해주기"
      ],
      "metadata": {
        "id": "d9RFLras6v0_"
      }
    },
    {
      "cell_type": "code",
      "source": [
        "# 실질적인 학습 부분\n",
        "for epoch in range(1) :                 # loop over the dataset multiple times\n",
        "                                        # 데이터 전체를 몇번 봤는가\n",
        "\n",
        "  running_loss = 0.0\n",
        "  for i, data in enumerate(trainloader, 0) :\n",
        "    # get inputs : data is a list of [inputs, labels](이미지, 레이블 데이터)\n",
        "    inputs, labels = data\n",
        "\n",
        "    #옵티마이저 초기화 \n",
        "    optimizer.zero_grad()\n",
        "\n",
        "    # forwoard + backward + optimizer\n",
        "    outputs = net(inputs)               #이미지(inputs)를 모델(net)에 넣어서 산출된 값 output\n",
        "    loss = criterion(outputs, labels)   # output과 실제 labels과 비교해서 loss 계산\n",
        "                                        # crossentropy에 의해 loss값 계산 \n",
        "    loss.backward()                     # loss 기준으로 gradient 계산하게 되므로 loss를 기준으로 backward한다고 정의\n",
        "    optimizer.step()                    # optimizer 계산\n",
        "\n",
        "    # print statistics\n",
        "    running_loss += loss.item()         # 숫자 하나의 형태로 바꾸어 숫자를 계속 더해 누적시키는 형태\n",
        "    if i % 2000 == 1999 :               # print every 2000 mini_batches\n",
        "      print('[%d, %5d] loss : %.3f' %\n",
        "            (epoch + 1, i+1, running_loss / 2000))\n",
        "      running_loss = 0.0\n",
        "\n",
        "print('Finished Training')"
      ],
      "metadata": {
        "colab": {
          "base_uri": "https://localhost:8080/"
        },
        "id": "hrrQTsXl740h",
        "outputId": "032ed181-c5d8-48eb-e62b-a5a8e268dd0c"
      },
      "execution_count": 8,
      "outputs": [
        {
          "output_type": "stream",
          "name": "stdout",
          "text": [
            "[1,  2000] loss : 2.180\n",
            "[1,  4000] loss : 1.783\n",
            "[1,  6000] loss : 1.595\n",
            "Finished Training\n"
          ]
        }
      ]
    },
    {
      "cell_type": "markdown",
      "source": [
        "###### - loss 값이 작아지는 것으로 보아 학습은 잘 되고 있다.\n"
      ],
      "metadata": {
        "id": "1KQDHwIV75Jw"
      }
    },
    {
      "cell_type": "markdown",
      "source": [
        "\n",
        "\n",
        "---\n",
        "\n"
      ],
      "metadata": {
        "id": "zYv0BHDz_oXJ"
      }
    },
    {
      "cell_type": "markdown",
      "source": [
        "### Save the trained model\n",
        " - 저장을 하지 않으면 이 값을 원할 때 학습을 한번 더 해 주어야 하는데 데이터가 많아지고 epoch이 많아지면 시간이 많이 소요\n",
        " - 따라서 save를 잘 해야 한다."
      ],
      "metadata": {
        "id": "NiIw5waF_pH1"
      }
    },
    {
      "cell_type": "code",
      "source": [
        "PATH = './clfar_net.pth'\n",
        "torch.save(net.state_dict(), PATH)"
      ],
      "metadata": {
        "id": "H7cJPQz3_nPH"
      },
      "execution_count": 9,
      "outputs": []
    },
    {
      "cell_type": "markdown",
      "source": [
        "\n",
        "\n",
        "---\n",
        "\n"
      ],
      "metadata": {
        "id": "PQ02sKb5AVhi"
      }
    },
    {
      "cell_type": "markdown",
      "source": [
        "### Load the pre-trained model"
      ],
      "metadata": {
        "id": "cz7KJyi8AWK5"
      }
    },
    {
      "cell_type": "code",
      "source": [
        "net = Net()\n",
        "net.load_state_dict(torch.load(PATH))"
      ],
      "metadata": {
        "colab": {
          "base_uri": "https://localhost:8080/"
        },
        "id": "VK_NViFDAThJ",
        "outputId": "18182504-c30e-42c3-8218-fae1ed2b0fb0"
      },
      "execution_count": 10,
      "outputs": [
        {
          "output_type": "execute_result",
          "data": {
            "text/plain": [
              "<All keys matched successfully>"
            ]
          },
          "metadata": {},
          "execution_count": 10
        }
      ]
    },
    {
      "cell_type": "code",
      "source": [
        "# test data를 가지고 예측하는 방법\n",
        "correct = 0\n",
        "total = 0\n",
        "with torch.no_grad() :                            # test할 때에는 gradient update를 하지 않는다는 의미\n",
        "  for data in testloader :                        # testloader도 배치로 나누었기 때문에 for문 이용\n",
        "    images, labels = data\n",
        "    outputs = net(images)                         # 우리의 모델 net에 images 넣기, loss는 계산 X, output에는 10개의 값들이 있는 벡터 출력\n",
        "    _, predicted = torch.max(outputs.data, 1)     # 그 중에서 가장 큰 것으로 예측 하겠다는 의미(값이 10개에서 1개로 바뀜)\n",
        "    total += labels.size(0)\n",
        "    correct += (predicted == labels).sum().item() # label도 하나이기 때문에 predicted랑 label이랑 같으면 맞은것으로 한다.\n",
        "\n",
        "print('Accuracy of the network on the 10000 test images : %d %%' % (\n",
        "    100* correct / total))\n",
        "\n"
      ],
      "metadata": {
        "colab": {
          "base_uri": "https://localhost:8080/"
        },
        "id": "ZPlsLZJUAhVc",
        "outputId": "e4fb7c9a-c596-4baf-c389-f09b99219679"
      },
      "execution_count": 12,
      "outputs": [
        {
          "output_type": "stream",
          "name": "stdout",
          "text": [
            "Accuracy of the network on the 10000 test images : 45 %\n"
          ]
        }
      ]
    },
    {
      "cell_type": "markdown",
      "source": [
        "###### - 지난 시간에는 데이터를 불러오는 방법, 전처리 하는 방법\n",
        "###### - 이번 시간에는 모델 만드는데 심플한 모델 만들기(실질적인 학습에 해당되는 for문 작성), save, load하는 방법\n",
        "###### - 다음 시간에는 epoch이 높다고 해서 무조건 학습이 잘 되었다고 할 수는 없다. 학습하다가 중간에서 best model이 나올 수 있기 때문에 for문 안에 조건문을 넣어서 저장하도록 할 수 있다. \n",
        "###### - 일반적인 모델의 텐서는 CPU 연산을 할 수 있는 텐서인데 이미지 처리는 CPU로 하게 되면 매우 오래 걸리므로 GPU 연산으로 해야한다.\n",
        "###### - 트랜스퍼 러닝에 대해서"
      ],
      "metadata": {
        "id": "kY_D-M_DCLaS"
      }
    }
  ]
}