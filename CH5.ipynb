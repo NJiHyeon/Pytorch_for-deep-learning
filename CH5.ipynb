{
  "nbformat": 4,
  "nbformat_minor": 0,
  "metadata": {
    "colab": {
      "name": "CH5.ipynb",
      "provenance": [],
      "authorship_tag": "ABX9TyNHfIVhmF9hmJk2OgRTsWrl",
      "include_colab_link": true
    },
    "kernelspec": {
      "name": "python3",
      "display_name": "Python 3"
    },
    "language_info": {
      "name": "python"
    }
  },
  "cells": [
    {
      "cell_type": "markdown",
      "metadata": {
        "id": "view-in-github",
        "colab_type": "text"
      },
      "source": [
        "<a href=\"https://colab.research.google.com/github/NJiHyeon/Pytorch_for-deep-learning/blob/main/CH5.ipynb\" target=\"_parent\"><img src=\"https://colab.research.google.com/assets/colab-badge.svg\" alt=\"Open In Colab\"/></a>"
      ]
    },
    {
      "cell_type": "markdown",
      "source": [
        "# 인공신경망"
      ],
      "metadata": {
        "id": "Po7v7x04FShG"
      }
    },
    {
      "cell_type": "markdown",
      "source": [
        "## 최적화 방법"
      ],
      "metadata": {
        "id": "uDOjDUBMFV9v"
      }
    },
    {
      "cell_type": "code",
      "execution_count": 1,
      "metadata": {
        "id": "FYHAz7GXE9Tl"
      },
      "outputs": [],
      "source": [
        "import torch\n",
        "import torchvision"
      ]
    },
    {
      "cell_type": "code",
      "source": [
        "model = torchvision.models.resnet18(pretrained=False)"
      ],
      "metadata": {
        "id": "mT3Tz41GFfhX"
      },
      "execution_count": 2,
      "outputs": []
    },
    {
      "cell_type": "markdown",
      "source": [
        "#### 1. SGD\n",
        "###### - 한 번 학습 시 전체 데이터를 사용하지 않고 일부 데이터를 사용하는 gradient descent 방법\n",
        "###### - gradient descent의 단점 : 학습률 고정\n",
        "###### - 크게 두가지 형태의 SGD의 베이스인 optimizer : momentum, adam"
      ],
      "metadata": {
        "id": "yOXEw-xqFj9H"
      }
    },
    {
      "cell_type": "code",
      "source": [
        "optimizer = torch.optim.SGD(model.parameters(), lr=0.01)"
      ],
      "metadata": {
        "id": "BXo4U765FnbH"
      },
      "execution_count": 3,
      "outputs": []
    },
    {
      "cell_type": "markdown",
      "source": [
        "#### 2. Momentum\n",
        "###### - momentum 변수만 추가해 주면 momentum optimizer가 작동된다."
      ],
      "metadata": {
        "id": "aJY5chUzGMuO"
      }
    },
    {
      "cell_type": "code",
      "source": [
        "optimizer = torch.optim.SGD(model.parameters(), lr=0.01, momentum=0.9)"
      ],
      "metadata": {
        "id": "1TYsQfFSGYq7"
      },
      "execution_count": 4,
      "outputs": []
    },
    {
      "cell_type": "markdown",
      "source": [
        "#### 3. Adam\n",
        "###### - 거의 디폴트 최적화 기법이라고 생각되는 만큼 많이 사용되고 있다."
      ],
      "metadata": {
        "id": "pEBJCtI-Gd6n"
      }
    },
    {
      "cell_type": "code",
      "source": [
        "optimizer = torch.optim.Adam(model.parameters(), lr=0.01)"
      ],
      "metadata": {
        "id": "kHVlZ7jIGknB"
      },
      "execution_count": 5,
      "outputs": []
    },
    {
      "cell_type": "markdown",
      "source": [
        "#### 4. 스케줄링\n",
        "###### - Adam 만큼 많이 사용되는 방법\n",
        "###### - momentum을 기반으로 최적화를 선언하고 "
      ],
      "metadata": {
        "id": "udctMurjGpZg"
      }
    },
    {
      "cell_type": "code",
      "source": [
        "optimizer = torch.optim.SGD(model.parameters(), lr=0.01, momentum=0.9)\n",
        "scheduler = torch.optim.lr_scheduler.StepLR(optimizer, step_size=30, gamma=0.1)     #epoch이 30번 돌때마다 gamma(0.1)을 학습률에 곱해서 사용하겠다."
      ],
      "metadata": {
        "id": "2U1Yq0GUGtRK"
      },
      "execution_count": 7,
      "outputs": []
    },
    {
      "cell_type": "code",
      "source": [
        "# 배치 연산이 끝나고 scheduler.step() 이라는 라인 한줄만 추가해서 사용\n",
        "# example\n",
        "...중략...\n",
        "for epoch in range(400) :\n",
        "  running_loss = 0.0\n",
        "  for data in trainloader :\n",
        "    inputs, values = data\n",
        "    optimizer.zero_grad()\n",
        "    outputs = model(inputs)\n",
        "    loss = criterion(outputs, values)\n",
        "    loss.backward()\n",
        "    optimizer.step()\n",
        "\n",
        "    ...중략...\n",
        "\n",
        "  scheduler.step()"
      ],
      "metadata": {
        "id": "ad4nl7D9HnQs"
      },
      "execution_count": null,
      "outputs": []
    }
  ]
}